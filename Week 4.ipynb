{
 "cells": [
  {
   "cell_type": "markdown",
   "id": "c1db90b3-8784-4893-9956-625184c2b32f",
   "metadata": {},
   "source": [
    "Import Libraries"
   ]
  },
  {
   "cell_type": "code",
   "execution_count": 23,
   "id": "1adbd3ef-1862-4fa9-beb8-4aa376536c4a",
   "metadata": {},
   "outputs": [],
   "source": [
    "from imblearn.over_sampling import SMOTE\n",
    "from sklearn.model_selection import GridSearchCV\n",
    "import pandas as pd\n",
    "import numpy as np\n",
    "from sklearn.model_selection import train_test_split\n",
    "from sklearn.preprocessing import LabelEncoder, StandardScaler\n",
    "from sklearn.ensemble import RandomForestClassifier\n",
    "from sklearn.metrics import accuracy_score, classification_report, confusion_matrix\n",
    "import seaborn as sns\n",
    "import matplotlib.pyplot as plt\n",
    "import joblib"
   ]
  },
  {
   "cell_type": "code",
   "execution_count": 25,
   "id": "60aa9abb-7b69-4433-9527-0e94d14aae3c",
   "metadata": {},
   "outputs": [
    {
     "name": "stdout",
     "output_type": "stream",
     "text": [
      " Train-test split done. Now X_train and y_train exist.\n"
     ]
    }
   ],
   "source": [
    "# -------------------------------\n",
    "# Re-define X_train, y_train before SMOTE\n",
    "# -------------------------------\n",
    "\n",
    "import pandas as pd\n",
    "import numpy as np\n",
    "from sklearn.preprocessing import LabelEncoder, StandardScaler\n",
    "from sklearn.model_selection import train_test_split\n",
    "from imblearn.over_sampling import SMOTE\n",
    "\n",
    "# 1. Load dataset\n",
    "df = pd.read_csv(r\"C:\\Users\\hima0\\Downloads\\project-data-2d.csv\")\n",
    "df = df.replace([\"NA\", \"NA \", \"NA    \", \"\"], np.nan)\n",
    "\n",
    "# 2. Encode categorical variables\n",
    "if 'sex' in df.columns:\n",
    "    df['sex'] = LabelEncoder().fit_transform(df['sex'])\n",
    "df['category'] = LabelEncoder().fit_transform(df['category'])\n",
    "\n",
    "# 3. Convert all to numeric\n",
    "for col in df.columns:\n",
    "    df[col] = pd.to_numeric(df[col], errors='coerce')\n",
    "\n",
    "# 4. Fill missing values\n",
    "df.fillna(df.median(numeric_only=True), inplace=True)\n",
    "\n",
    "# 5. Features & Target\n",
    "X = df.drop(\"category\", axis=1)\n",
    "y = df[\"category\"]\n",
    "\n",
    "# 6. Scale features\n",
    "scaler = StandardScaler()\n",
    "X_scaled = scaler.fit_transform(X)\n",
    "\n",
    "# 7. Train-test split\n",
    "X_train, X_test, y_train, y_test = train_test_split(\n",
    "    X_scaled, y, test_size=0.2, random_state=42, stratify=y\n",
    ")\n",
    "\n",
    "print(\" Train-test split done. Now X_train and y_train exist.\")\n"
   ]
  },
  {
   "cell_type": "markdown",
   "id": "f3134bca-39b8-4dfe-8dd2-b05d18d534be",
   "metadata": {},
   "source": [
    "Apply SMOTE to Balance Dataset"
   ]
  },
  {
   "cell_type": "code",
   "execution_count": 10,
   "id": "0d3ece8e-43b1-4786-8f18-eba6ab406b53",
   "metadata": {},
   "outputs": [
    {
     "name": "stdout",
     "output_type": "stream",
     "text": [
      "Before SMOTE: category\n",
      "3    426\n",
      "0     24\n",
      "2     19\n",
      "1     17\n",
      "4      6\n",
      "Name: count, dtype: int64\n",
      "After SMOTE: category\n",
      "1    426\n",
      "3    426\n",
      "0    426\n",
      "2    426\n",
      "4    426\n",
      "Name: count, dtype: int64\n"
     ]
    }
   ],
   "source": [
    "# Oversample minority classes using SMOTE\n",
    "\n",
    "\n",
    "smote = SMOTE(random_state=42)\n",
    "X_train_res, y_train_res = smote.fit_resample(X_train, y_train)\n",
    "\n",
    "print(\"Before SMOTE:\", y_train.value_counts())\n",
    "print(\"After SMOTE:\", y_train_res.value_counts())\n"
   ]
  },
  {
   "cell_type": "markdown",
   "id": "99782816-e5ba-4c97-83a1-409e51bdfb67",
   "metadata": {},
   "source": [
    "Retrain Best Model (Random Forest) with SMOTE Data"
   ]
  },
  {
   "cell_type": "code",
   "execution_count": 13,
   "id": "ba0ae968-bd51-403d-bf29-8fbf429aa77a",
   "metadata": {},
   "outputs": [
    {
     "name": "stdout",
     "output_type": "stream",
     "text": [
      "Accuracy after SMOTE: 0.926829268292683\n",
      "\n",
      "Classification Report:\n",
      "               precision    recall  f1-score   support\n",
      "\n",
      "           0       0.62      0.83      0.71         6\n",
      "           1       0.00      0.00      0.00         4\n",
      "           2       0.50      0.40      0.44         5\n",
      "           3       0.96      0.99      0.98       107\n",
      "           4       1.00      1.00      1.00         1\n",
      "\n",
      "    accuracy                           0.93       123\n",
      "   macro avg       0.62      0.64      0.63       123\n",
      "weighted avg       0.90      0.93      0.91       123\n",
      "\n"
     ]
    }
   ],
   "source": [
    "rf = RandomForestClassifier(random_state=42, class_weight=\"balanced\")\n",
    "rf.fit(X_train_res, y_train_res)\n",
    "\n",
    "y_pred_res = rf.predict(X_test)\n",
    "\n",
    "print(\"Accuracy after SMOTE:\", accuracy_score(y_test, y_pred_res))\n",
    "print(\"\\nClassification Report:\\n\", classification_report(y_test, y_pred_res, zero_division=0))\n"
   ]
  },
  {
   "cell_type": "markdown",
   "id": "0e5f9696-1b81-458a-bacc-a81634e023d1",
   "metadata": {},
   "source": [
    "Hyperparameter Tuning (Random Forest)"
   ]
  },
  {
   "cell_type": "code",
   "execution_count": 20,
   "id": "a1c5a0f0-7f84-4e5d-81fe-bd68d14230f0",
   "metadata": {},
   "outputs": [
    {
     "name": "stdout",
     "output_type": "stream",
     "text": [
      "Best Parameters: {'max_depth': None, 'min_samples_split': 2, 'n_estimators': 100}\n",
      "Best Score (CV): 0.9892018779342724\n",
      "\n",
      "Accuracy (Tuned RF): 0.926829268292683\n",
      "Classification Report:\n",
      "               precision    recall  f1-score   support\n",
      "\n",
      "           0       0.62      0.83      0.71         6\n",
      "           1       0.00      0.00      0.00         4\n",
      "           2       0.50      0.40      0.44         5\n",
      "           3       0.96      0.99      0.98       107\n",
      "           4       1.00      1.00      1.00         1\n",
      "\n",
      "    accuracy                           0.93       123\n",
      "   macro avg       0.62      0.64      0.63       123\n",
      "weighted avg       0.90      0.93      0.91       123\n",
      "\n"
     ]
    },
    {
     "data": {
      "image/png": "[encoded data removed]",
      "text/plain": [
       "<Figure size 600x400 with 2 Axes>"
      ]
     },
     "metadata": {},
     "output_type": "display_data"
    }
   ],
   "source": [
    "from sklearn.ensemble import RandomForestClassifier\n",
    "from sklearn.model_selection import GridSearchCV\n",
    "from sklearn.metrics import accuracy_score, classification_report, confusion_matrix\n",
    "import seaborn as sns\n",
    "import matplotlib.pyplot as plt\n",
    "\n",
    "\n",
    "# Define parameter grid\n",
    "param_grid = {\n",
    "    \"n_estimators\": [100, 200, 300],\n",
    "    \"max_depth\": [None, 10, 20],\n",
    "    \"min_samples_split\": [2, 5, 10]\n",
    "}\n",
    "\n",
    "grid = GridSearchCV(\n",
    "    estimator=RandomForestClassifier(random_state=42, class_weight=\"balanced\"),\n",
    "    param_grid=param_grid,\n",
    "    cv=3,\n",
    "    scoring=\"accuracy\",\n",
    "    n_jobs=-1\n",
    ")\n",
    "\n",
    "grid.fit(X_train_res, y_train_res)\n",
    "\n",
    "print(\"Best Parameters:\", grid.best_params_)\n",
    "print(\"Best Score (CV):\", grid.best_score_)\n",
    "\n",
    "# Evaluate tuned model\n",
    "best_rf = grid.best_estimator_\n",
    "y_pred_tuned = best_rf.predict(X_test)\n",
    "\n",
    "print(\"\\nAccuracy (Tuned RF):\", accuracy_score(y_test, y_pred_tuned))\n",
    "print(\"Classification Report:\\n\", classification_report(y_test, y_pred_tuned, zero_division=0))\n",
    "\n",
    "cm_tuned = confusion_matrix(y_test, y_pred_tuned)\n",
    "plt.figure(figsize=(6,4))\n",
    "sns.heatmap(cm_tuned, annot=True, fmt=\"d\", cmap=\"Greens\")\n",
    "plt.title(\"Confusion Matrix - Tuned Random Forest\")\n",
    "plt.xlabel(\"Predicted\")\n",
    "plt.ylabel(\"Actual\")\n",
    "plt.show()"
   ]
  },
  {
   "cell_type": "markdown",
   "id": "4fc6be81-14c4-42e1-95b1-d88838670b1d",
   "metadata": {},
   "source": [
    "Save Improved Model"
   ]
  },
  {
   "cell_type": "code",
   "execution_count": 24,
   "id": "ed4d088c-bf67-47fb-bc10-ab1edd78f6dc",
   "metadata": {},
   "outputs": [
    {
     "name": "stdout",
     "output_type": "stream",
     "text": [
      " Improved Model Saved\n"
     ]
    }
   ],
   "source": [
    "joblib.dump(best_rf, \"best_liver_disease_model_improved.pkl\")\n",
    "print(\" Improved Model Saved\")"
   ]
  },
  {
   "cell_type": "code",
   "execution_count": 2,
   "id": "508f7917-2561-46ac-85a7-d8c780bf2b62",
   "metadata": {},
   "outputs": [
    {
     "name": "stdout",
     "output_type": "stream",
     "text": [
      "Before SMOTE:\n",
      " category\n",
      "3    426\n",
      "0     24\n",
      "2     19\n",
      "1     17\n",
      "4      6\n",
      "Name: count, dtype: int64\n",
      "\n",
      "After SMOTE:\n",
      " category\n",
      "1    426\n",
      "3    426\n",
      "0    426\n",
      "2    426\n",
      "4    426\n",
      "Name: count, dtype: int64\n",
      "\n",
      " Random Forest After SMOTE:\n",
      "Accuracy: 0.926829268292683\n",
      "Classification Report:\n",
      "               precision    recall  f1-score   support\n",
      "\n",
      "           0       0.62      0.83      0.71         6\n",
      "           1       0.00      0.00      0.00         4\n",
      "           2       0.50      0.40      0.44         5\n",
      "           3       0.96      0.99      0.98       107\n",
      "           4       1.00      1.00      1.00         1\n",
      "\n",
      "    accuracy                           0.93       123\n",
      "   macro avg       0.62      0.64      0.63       123\n",
      "weighted avg       0.90      0.93      0.91       123\n",
      "\n"
     ]
    },
    {
     "data": {
      "image/png": "[encoded data removed]",
      "text/plain": [
       "<Figure size 600x400 with 2 Axes>"
      ]
     },
     "metadata": {},
     "output_type": "display_data"
    },
    {
     "name": "stdout",
     "output_type": "stream",
     "text": [
      "\n",
      " Best Parameters: {'max_depth': None, 'min_samples_split': 2, 'n_estimators': 100}\n",
      " Best Cross-Validation Score: 0.9892018779342724\n",
      "\n",
      " Tuned Random Forest Results:\n",
      "Accuracy: 0.926829268292683\n",
      "Classification Report:\n",
      "               precision    recall  f1-score   support\n",
      "\n",
      "           0       0.62      0.83      0.71         6\n",
      "           1       0.00      0.00      0.00         4\n",
      "           2       0.50      0.40      0.44         5\n",
      "           3       0.96      0.99      0.98       107\n",
      "           4       1.00      1.00      1.00         1\n",
      "\n",
      "    accuracy                           0.93       123\n",
      "   macro avg       0.62      0.64      0.63       123\n",
      "weighted avg       0.90      0.93      0.91       123\n",
      "\n"
     ]
    },
    {
     "data": {
      "image/png": "[encoded data removed]",
      "text/plain": [
       "<Figure size 600x400 with 2 Axes>"
      ]
     },
     "metadata": {},
     "output_type": "display_data"
    },
    {
     "name": "stdout",
     "output_type": "stream",
     "text": [
      "\n",
      " Improved Random Forest model saved as 'best_liver_disease_model_improved.pkl'\n"
     ]
    }
   ],
   "source": [
    "# -------------------------------\n",
    "# Week 5: Feedback & Improvements (One-Shot Script)\n",
    "# -------------------------------\n",
    "\n",
    "# 1. Import Libraries\n",
    "import pandas as pd\n",
    "import numpy as np\n",
    "import matplotlib.pyplot as plt\n",
    "import seaborn as sns\n",
    "from sklearn.preprocessing import LabelEncoder, StandardScaler\n",
    "from sklearn.model_selection import train_test_split, GridSearchCV\n",
    "from sklearn.ensemble import RandomForestClassifier\n",
    "from sklearn.metrics import accuracy_score, classification_report, confusion_matrix\n",
    "from imblearn.over_sampling import SMOTE\n",
    "import joblib\n",
    "\n",
    "# 2. Load & Clean Dataset\n",
    "df = pd.read_csv(r\"C:\\Users\\hima0\\Downloads\\project-data-2d.csv\")\n",
    "df = df.replace([\"NA\", \"NA \", \"NA    \", \"\"], np.nan)\n",
    "\n",
    "# Encode categorical variables\n",
    "if 'sex' in df.columns:\n",
    "    df['sex'] = LabelEncoder().fit_transform(df['sex'])\n",
    "df['category'] = LabelEncoder().fit_transform(df['category'])\n",
    "\n",
    "# Convert all columns to numeric\n",
    "for col in df.columns:\n",
    "    df[col] = pd.to_numeric(df[col], errors='coerce')\n",
    "\n",
    "# Fill missing values with median\n",
    "df.fillna(df.median(numeric_only=True), inplace=True)\n",
    "\n",
    "# 3. Features & Target\n",
    "X = df.drop(\"category\", axis=1)\n",
    "y = df[\"category\"]\n",
    "\n",
    "# 4. Feature Scaling\n",
    "scaler = StandardScaler()\n",
    "X_scaled = scaler.fit_transform(X)\n",
    "\n",
    "# 5. Train-Test Split\n",
    "X_train, X_test, y_train, y_test = train_test_split(\n",
    "    X_scaled, y, test_size=0.2, random_state=42, stratify=y\n",
    ")\n",
    "\n",
    "# 6. Handle Imbalance with SMOTE\n",
    "smote = SMOTE(random_state=42)\n",
    "X_train_res, y_train_res = smote.fit_resample(X_train, y_train)\n",
    "\n",
    "print(\"Before SMOTE:\\n\", y_train.value_counts())\n",
    "print(\"\\nAfter SMOTE:\\n\", y_train_res.value_counts())\n",
    "\n",
    "# 7. Train Random Forest (Baseline with SMOTE data)\n",
    "rf = RandomForestClassifier(random_state=42, class_weight=\"balanced\")\n",
    "rf.fit(X_train_res, y_train_res)\n",
    "y_pred_res = rf.predict(X_test)\n",
    "\n",
    "print(\"\\n Random Forest After SMOTE:\")\n",
    "print(\"Accuracy:\", accuracy_score(y_test, y_pred_res))\n",
    "print(\"Classification Report:\\n\", classification_report(y_test, y_pred_res, zero_division=0))\n",
    "\n",
    "# Confusion Matrix\n",
    "cm = confusion_matrix(y_test, y_pred_res)\n",
    "plt.figure(figsize=(6,4))\n",
    "sns.heatmap(cm, annot=True, fmt=\"d\", cmap=\"Blues\")\n",
    "plt.title(\"Confusion Matrix - RF After SMOTE\")\n",
    "plt.xlabel(\"Predicted\")\n",
    "plt.ylabel(\"Actual\")\n",
    "plt.show()\n",
    "\n",
    "# 8. Hyperparameter Tuning (Fast GridSearch)\n",
    "param_grid = {\n",
    "    \"n_estimators\": [100, 200],   # fewer options for speed\n",
    "    \"max_depth\": [None, 10],\n",
    "    \"min_samples_split\": [2, 5]\n",
    "}\n",
    "\n",
    "grid = GridSearchCV(\n",
    "    estimator=RandomForestClassifier(random_state=42, class_weight=\"balanced\"),\n",
    "    param_grid=param_grid,\n",
    "    cv=3,\n",
    "    scoring=\"accuracy\",\n",
    "    n_jobs=-1\n",
    ")\n",
    "\n",
    "grid.fit(X_train_res, y_train_res)\n",
    "\n",
    "print(\"\\n Best Parameters:\", grid.best_params_)\n",
    "print(\" Best Cross-Validation Score:\", grid.best_score_)\n",
    "\n",
    "# 9. Evaluate Tuned Model\n",
    "best_rf = grid.best_estimator_\n",
    "y_pred_tuned = best_rf.predict(X_test)\n",
    "\n",
    "print(\"\\n Tuned Random Forest Results:\")\n",
    "print(\"Accuracy:\", accuracy_score(y_test, y_pred_tuned))\n",
    "print(\"Classification Report:\\n\", classification_report(y_test, y_pred_tuned, zero_division=0))\n",
    "\n",
    "# Confusion Matrix for Tuned Model\n",
    "cm_tuned = confusion_matrix(y_test, y_pred_tuned)\n",
    "plt.figure(figsize=(6,4))\n",
    "sns.heatmap(cm_tuned, annot=True, fmt=\"d\", cmap=\"Greens\")\n",
    "plt.title(\"Confusion Matrix - Tuned Random Forest\")\n",
    "plt.xlabel(\"Predicted\")\n",
    "plt.ylabel(\"Actual\")\n",
    "plt.show()\n",
    "\n",
    "# 10. Save Improved Model\n",
    "joblib.dump(best_rf, \"best_liver_disease_model_improved.pkl\")\n",
    "print(\"\\n Improved Random Forest model saved as 'best_liver_disease_model_improved.pkl'\")\n"
   ]
  },
  {
   "cell_type": "code",
   "execution_count": 6,
   "id": "aafefbf9-6771-4fcd-9908-91e834733162",
   "metadata": {},
   "outputs": [],
   "source": [
    "# -------------------------------\n",
    "# Week 6: Deployment with Streamlit\n",
    "# -------------------------------\n",
    "\n",
    "import streamlit as st\n",
    "import pandas as pd\n",
    "import numpy as np\n",
    "import joblib\n",
    "from sklearn.preprocessing import StandardScaler\n",
    "\n",
    "# Load trained model\n",
    "model = joblib.load(\"best_liver_disease_model_improved.pkl\")\n",
    "\n",
    "# Title\n",
    "st.title(\" Liver Disease Prediction App\")\n",
    "st.write(\"Enter patient details below to predict liver disease category.\")\n",
    "\n",
    "# Input fields\n",
    "age = st.number_input(\"Age\", min_value=1, max_value=100, value=30)\n",
    "sex = st.selectbox(\"Sex\", [\"Female\", \"Male\"])\n",
    "total_bilirubin = st.number_input(\"Total Bilirubin\", min_value=0.0, max_value=10.0, value=1.0)\n",
    "direct_bilirubin = st.number_input(\"Direct Bilirubin\", min_value=0.0, max_value=5.0, value=0.5)\n",
    "alk_phosphotase = st.number_input(\"Alkaline Phosphotase\", min_value=0, max_value=2000, value=200)\n",
    "alamine_aminotransferase = st.number_input(\"Alamine Aminotransferase\", min_value=0, max_value=2000, value=30)\n",
    "aspartate_aminotransferase = st.number_input(\"Aspartate Aminotransferase\", min_value=0, max_value=2000, value=40)\n",
    "total_proteins = st.number_input(\"Total Proteins\", min_value=0.0, max_value=10.0, value=6.5)\n",
    "albumin = st.number_input(\"Albumin\", min_value=0.0, max_value=6.0, value=3.0)\n",
    "albumin_globulin_ratio = st.number_input(\"Albumin/Globulin Ratio\", min_value=0.0, max_value=3.0, value=1.0)\n",
    "\n",
    "# Encode sex\n",
    "sex_encoded = 1 if sex == \"Male\" else 0\n",
    "\n",
    "# Create input dataframe\n",
    "input_data = pd.DataFrame([[\n",
    "    age, sex_encoded, total_bilirubin, direct_bilirubin,\n",
    "    alk_phosphotase, alamine_aminotransferase, aspartate_aminotransferase,\n",
    "    total_proteins, albumin, albumin_globulin_ratio\n",
    "]], columns=[\n",
    "    \"age\", \"sex\", \"Total_Bilirubin\", \"Direct_Bilirubin\",\n",
    "    \"Alkaline_Phosphotase\", \"Alamine_Aminotransferase\", \"Aspartate_Aminotransferase\",\n",
    "    \"Total_Protiens\", \"Albumin\", \"Albumin_and_Globulin_Ratio\"\n",
    "])\n",
    "\n",
    "# Standardize input (important: same scaling as training)\n",
    "scaler = StandardScaler()\n",
    "input_data_scaled = scaler.fit_transform(input_data)\n",
    "\n",
    "# Prediction\n",
    "if st.button(\"Predict\"):\n",
    "    prediction = model.predict(input_data_scaled)[0]\n",
    "    st.success(f\"Predicted Disease Category: {prediction}\")\n"
   ]
  }
 ],
 "metadata": {
  "kernelspec": {
   "display_name": "Python [conda env:base] *",
   "language": "python",
   "name": "conda-base-py"
  },
  "language_info": {
   "codemirror_mode": {
    "name": "ipython",
    "version": 3
   },
   "file_extension": ".py",
   "mimetype": "text/x-python",
   "name": "python",
   "nbconvert_exporter": "python",
   "pygments_lexer": "ipython3",
   "version": "3.12.7"
  }
 },
 "nbformat": 4,
 "nbformat_minor": 5
}
